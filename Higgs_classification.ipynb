{
  "nbformat": 4,
  "nbformat_minor": 0,
  "metadata": {
    "accelerator": "GPU",
    "colab": {
      "name": "Copy of Anirudh higgs_classification.ipynb",
      "provenance": [],
      "collapsed_sections": [],
      "include_colab_link": true
    },
    "kernelspec": {
      "display_name": "Python 3",
      "name": "python3"
    }
  },
  "cells": [
    {
      "cell_type": "markdown",
      "metadata": {
        "id": "view-in-github",
        "colab_type": "text"
      },
      "source": [
        "<a href=\"https://colab.research.google.com/github/amitav710/ML4SCI-HiggsClassification/blob/main/Higgs_classification.ipynb\" target=\"_parent\"><img src=\"https://colab.research.google.com/assets/colab-badge.svg\" alt=\"Open In Colab\"/></a>"
      ]
    },
    {
      "cell_type": "markdown",
      "metadata": {
        "id": "TJ-SHHfw73NF"
      },
      "source": [
        "<a href=\"https://colab.research.google.com/github/ML4SCI/ML4SCIHackathon/blob/main/HiggsBosonClassificationChallenge/higgs_classification.ipynb\" target=\"_parent\"><img src=\"https://colab.research.google.com/assets/colab-badge.svg\" alt=\"Open In Colab\"/></a>\n",
        "\n"
      ]
    },
    {
      "cell_type": "markdown",
      "metadata": {
        "id": "LzK7JiSZ_MtX"
      },
      "source": [
        "**This is an example Notebook for running training on Higgs vs background signal classification. **"
      ]
    },
    {
      "cell_type": "markdown",
      "metadata": {
        "id": "T4kV4R6SDR8X"
      },
      "source": [
        "**Background:** High-energy collisions at the Large Hadron Collider (LHC) produce particles that interact with particle detectors. One important task is to classify different types of collisions based on their physics content, allowing physicists to find patterns in the data and to potentially unravel new discoveries. "
      ]
    },
    {
      "cell_type": "markdown",
      "metadata": {
        "id": "fHw_uCCcHJqn"
      },
      "source": [
        "**Problem statement:** The discovery of the Higgs boson by CMS and ATLAS Collaborations was announced at CERN in 2012. In this work, we focus on the potential of Machine Learning and Deep Learning in detecting potential Higgs signal from one of the background processes that mimics it. "
      ]
    },
    {
      "cell_type": "markdown",
      "metadata": {
        "id": "qAJnE-4uANmP"
      },
      "source": [
        "**Dataset:** The dataset is made available by the Center for Machine Learning and Intelligent Systems at University of California, Irvine. \n",
        "The dataset can be found on the [UCI Machine learning Repository](https://archive.ics.uci.edu/ml/datasets/HIGGS)"
      ]
    },
    {
      "cell_type": "markdown",
      "metadata": {
        "id": "5u1kJGUdAZ9m"
      },
      "source": [
        "**Description:** The dataset consists of a total of 11 million labeled samples of Higgs vs background events produced by Monte Carlo simulations. Each sample consists of 28 features. The first 21 features are kinematic properties measured at the level of the detectors. The last seven are functions of the first 21.\n",
        "\n",
        "\n"
      ]
    },
    {
      "cell_type": "markdown",
      "metadata": {
        "id": "myu16dmzSBmo"
      },
      "source": [
        "**Steps to load the training dataset**\n",
        "1. Download the dataset from the UCI website. "
      ]
    },
    {
      "cell_type": "code",
      "metadata": {
        "colab": {
          "base_uri": "https://localhost:8080/"
        },
        "id": "cxq0Sys2RFrn",
        "outputId": "d58d402a-8352-442a-8b05-857c2c86df50"
      },
      "source": [
        "from google.colab import drive\n",
        "drive.mount('/content/drive')"
      ],
      "execution_count": 12,
      "outputs": [
        {
          "output_type": "stream",
          "name": "stdout",
          "text": [
            "Drive already mounted at /content/drive; to attempt to forcibly remount, call drive.mount(\"/content/drive\", force_remount=True).\n"
          ]
        }
      ]
    },
    {
      "cell_type": "code",
      "metadata": {
        "colab": {
          "base_uri": "https://localhost:8080/"
        },
        "id": "79NFrRpDRRF3",
        "outputId": "12978d11-7507-4360-e962-33dd9414a8c5"
      },
      "source": [
        "cd drive/My\\Drive"
      ],
      "execution_count": 13,
      "outputs": [
        {
          "output_type": "stream",
          "name": "stdout",
          "text": [
            "[Errno 2] No such file or directory: 'drive/MyDrive'\n",
            "/content/drive/MyDrive\n"
          ]
        }
      ]
    },
    {
      "cell_type": "code",
      "metadata": {
        "id": "mrM-WOaxRWsP"
      },
      "source": [
        "#!wget https://archive.ics.uci.edu/ml/machine-learning-databases/00280/HIGGS.csv.gz"
      ],
      "execution_count": 14,
      "outputs": []
    },
    {
      "cell_type": "markdown",
      "metadata": {
        "id": "0xHJtIbPVT-n"
      },
      "source": [
        "2. Unzip the dataset folder"
      ]
    },
    {
      "cell_type": "code",
      "metadata": {
        "id": "2J3v5kgbSrjx"
      },
      "source": [
        "# !gzip -d HIGGS.csv.gz"
      ],
      "execution_count": 15,
      "outputs": []
    },
    {
      "cell_type": "code",
      "metadata": {
        "id": "MLREBn86VD5H"
      },
      "source": [
        "from sklearn.datasets import make_gaussian_quantiles\n",
        "from sklearn.ensemble import AdaBoostClassifier\n",
        "from sklearn.metrics import accuracy_score\n",
        "from sklearn.tree import DecisionTreeClassifier\n",
        "from sklearn.metrics import confusion_matrix"
      ],
      "execution_count": 16,
      "outputs": []
    },
    {
      "cell_type": "code",
      "metadata": {
        "id": "MUE2QepFVwEq"
      },
      "source": [
        "from sklearn.model_selection import train_test_split\n",
        "import pandas as pd\n",
        "import numpy as np"
      ],
      "execution_count": 17,
      "outputs": []
    },
    {
      "cell_type": "code",
      "metadata": {
        "id": "8H-i4o9RWNED"
      },
      "source": [
        "import numpy as np\n",
        "np.random.seed(1337)  # for reproducibility\n",
        "import h5py\n",
        "from keras.models import Sequential\n",
        "from tensorflow.keras.optimizers import Adam\n",
        "from keras.initializers import TruncatedNormal\n",
        "from keras.layers import Input, Dense, Dropout, Flatten, Conv2D, MaxPooling2D\n",
        "from keras.callbacks import ReduceLROnPlateau\n",
        "\n",
        "from sklearn.metrics import roc_curve, auc\n",
        "\n",
        "import matplotlib.pyplot as plt"
      ],
      "execution_count": 18,
      "outputs": []
    },
    {
      "cell_type": "markdown",
      "metadata": {
        "id": "4GDeVfB04Qe4"
      },
      "source": [
        "**Load the file using pandas library**"
      ]
    },
    {
      "cell_type": "code",
      "metadata": {
        "id": "Jxfnd8shK0vq"
      },
      "source": [
        "data=pd.read_csv('./HIGGS.csv')"
      ],
      "execution_count": 11,
      "outputs": []
    },
    {
      "cell_type": "markdown",
      "metadata": {
        "id": "ZTnbxdjkUp73"
      },
      "source": [
        "Assign first column 0 to class labels (labeled 1 for signal, 0 for background)  and all others to feature matrix X.\n",
        "\n",
        "In this example, for the sake of fast checking, we use 1000 samples. To train on the entire dataset, proceed with uncommenting the lines below. "
      ]
    },
    {
      "cell_type": "code",
      "metadata": {
        "id": "1NntzXHtUJzm"
      },
      "source": [
        "#SAMPLE_SIZE = 1_000_000"
      ],
      "execution_count": 19,
      "outputs": []
    },
    {
      "cell_type": "code",
      "metadata": {
        "id": "hoRPhH9dNmCy"
      },
      "source": [
        "X=data.iloc[5000000:6000000,1:]#data.iloc[:,1:]\n",
        "y=data.iloc[5000000:6000000,0]#data.iloc[:,0]"
      ],
      "execution_count": 20,
      "outputs": []
    },
    {
      "cell_type": "markdown",
      "metadata": {
        "id": "hQX3GUrVUe7N"
      },
      "source": [
        "Split your data into training and validation samples where the fraction of the data used for validation is 33%. "
      ]
    },
    {
      "cell_type": "code",
      "metadata": {
        "id": "50-8I-fj8jC7"
      },
      "source": [
        "X_train1, X_test, y_train1, y_test = train_test_split(X, y, test_size=0.33, random_state=42)\n",
        "X_train, X_val, y_train, y_val = train_test_split(X_train1, y_train1, test_size=0.2, random_state=42)"
      ],
      "execution_count": 21,
      "outputs": []
    },
    {
      "cell_type": "markdown",
      "metadata": {
        "id": "PexwSVQ34M_l"
      },
      "source": [
        "**Visualize your data - One histogram per feature column**"
      ]
    },
    {
      "cell_type": "markdown",
      "metadata": {
        "id": "d8UNRLc-5VPM"
      },
      "source": [
        "Detailed information on what each feature column is can be found in *Attribute Information* section on the [UCI Machine learning Repositery](https://archive.ics.uci.edu/ml/datasets/HIGGS). For further information, refer to the [paper](https://www.nature.com/articles/ncomms5308) by Baldi et. al "
      ]
    },
    {
      "cell_type": "code",
      "metadata": {
        "id": "5BA9_Q-_B-8A"
      },
      "source": [
        "# from itertools import combinations\n",
        "# import matplotlib.pyplot as plt\n",
        "\n",
        "# fig, axes = plt.subplots(len(X_train.columns)//3, 3, figsize=(12, 48))\n",
        "\n",
        "# i = 0\n",
        "# for triaxis in axes:\n",
        "#     for axis in triaxis:\n",
        "#         X_train.hist(column = X_train.columns[i], bins = 100, ax=axis)\n",
        "#         i = i+1"
      ],
      "execution_count": 22,
      "outputs": []
    },
    {
      "cell_type": "markdown",
      "metadata": {
        "id": "AYxacfRWnaHS"
      },
      "source": [
        "**Feature Scaling**"
      ]
    },
    {
      "cell_type": "code",
      "metadata": {
        "id": "-j-ashNGuuRE"
      },
      "source": [
        "# from sklearn.preprocessing import StandardScaler\n",
        "\n",
        "# scaler1 = StandardScaler()\n",
        "# scaler2 = StandardScaler()\n",
        "# scaler3 = StandardScaler()\n",
        "\n",
        "# # Scale the train/test/val data\n",
        "# X_train = scaler1.fit_transform(X_train)\n",
        "# X_test = scaler2.fit_transform(X_test)\n",
        "# X_val = scaler3.fit_transform(X_val)\n",
        "\n",
        "# y_train = y_train.values\n",
        "# y_test = y_test.values\n",
        "# y_val = y_val.values"
      ],
      "execution_count": 23,
      "outputs": []
    },
    {
      "cell_type": "markdown",
      "metadata": {
        "id": "pDoiz5yl3aUf"
      },
      "source": [
        "**Setup the Boosted Decision Tree model** (BDT explanation [here](https://docs.microsoft.com/en-us/azure/machine-learning/algorithm-module-reference/boosted-decision-tree-regression#:~:text=Boosting%20means%20that%20each%20tree,small%20risk%20of%20less%20coverage.))"
      ]
    },
    {
      "cell_type": "code",
      "metadata": {
        "id": "tWBkXGr-aBuT"
      },
      "source": [
        "classifier = AdaBoostClassifier(\n",
        "    DecisionTreeClassifier(max_depth=1),\n",
        "    n_estimators=200\n",
        ")"
      ],
      "execution_count": 24,
      "outputs": []
    },
    {
      "cell_type": "markdown",
      "metadata": {
        "id": "szVdBJ2S34bW"
      },
      "source": [
        "**Train the Boosted Decision Tree model**"
      ]
    },
    {
      "cell_type": "code",
      "metadata": {
        "id": "9B6CsEgpQru4"
      },
      "source": [
        "from sklearn.ensemble import AdaBoostClassifier\n",
        "from sklearn.tree import DecisionTreeClassifier\n",
        "from sklearn.datasets import load_breast_cancer\n",
        "import pandas as pd\n",
        "import numpy as np\n",
        "from sklearn.model_selection import train_test_split\n",
        "from sklearn.metrics import confusion_matrix\n",
        "from sklearn.preprocessing import LabelEncoder"
      ],
      "execution_count": 25,
      "outputs": []
    },
    {
      "cell_type": "code",
      "metadata": {
        "id": "hlpgeOOR32zL"
      },
      "source": [
        "#classifier.fit(X_train, y_train)"
      ],
      "execution_count": 26,
      "outputs": []
    },
    {
      "cell_type": "markdown",
      "metadata": {
        "id": "DBJaFEoGApL5"
      },
      "source": [
        "**Predict on new testing data**"
      ]
    },
    {
      "cell_type": "code",
      "metadata": {
        "id": "UsRbhfAPQgEl"
      },
      "source": [
        "#predictions = classifier.predict(X_test)"
      ],
      "execution_count": 27,
      "outputs": []
    },
    {
      "cell_type": "markdown",
      "metadata": {
        "id": "pYMnGKVGAeM2"
      },
      "source": [
        "**Print confusion matrix which describes the performance of the model classification by displaying the number of True Positives, True Negatives, False Positives and False Negatives. More info on [Wikipedia](https://en.wikipedia.org/wiki/Confusion_matrix)**"
      ]
    },
    {
      "cell_type": "code",
      "metadata": {
        "id": "NREs3cPOQo4V"
      },
      "source": [
        "#confusion_matrix(y_test, predictions)"
      ],
      "execution_count": 28,
      "outputs": []
    },
    {
      "cell_type": "markdown",
      "metadata": {
        "id": "ULHd0Oto3om9"
      },
      "source": [
        "**Setup the Neural Network** (some useful info [here](https://towardsdatascience.com/a-gentle-introduction-to-neural-networks-series-part-1-2b90b87795bc))"
      ]
    },
    {
      "cell_type": "code",
      "metadata": {
        "id": "k_I4kazT3_3c"
      },
      "source": [
        "from numpy import loadtxt\n",
        "import tensorflow as tf\n",
        "from tensorflow import keras\n",
        "from tensorflow.keras.models import Sequential\n",
        "from tensorflow.keras.layers import Dense\n",
        "from tensorflow.keras.layers import LeakyReLU\n",
        "from tensorflow.keras.layers import Add\n",
        "from tensorflow.keras.utils import plot_model"
      ],
      "execution_count": 29,
      "outputs": []
    },
    {
      "cell_type": "code",
      "metadata": {
        "colab": {
          "base_uri": "https://localhost:8080/",
          "height": 1000
        },
        "id": "2rcPG-UX3kkq",
        "outputId": "b689f83d-c612-4ac6-bf13-0ec05d6a0bcb"
      },
      "source": [
        "# Input layer\n",
        "inputs = keras.Input(shape=(28,), name=\"Input\")\n",
        "\n",
        "\n",
        "# Dense 1\n",
        "x = Dense(64, name=\"Dense_1\")(inputs)\n",
        "x = LeakyReLU(alpha=0.3, name=\"LeakyReLU_1\")(x)\n",
        "x_base_1 = x\n",
        "\n",
        "x = Dense(128, name=\"Dense_2\")(x)\n",
        "x = LeakyReLU(alpha=0.3, name=\"LeakyReLU_2\")(x)\n",
        "x = Dense(128, name=\"Dense_3\")(x)\n",
        "x = LeakyReLU(alpha=0.3, name=\"LeakyReLU_3\")(x)\n",
        "x = Dense(64, name=\"Dense_4\")(x)\n",
        "x = LeakyReLU(alpha=0.3, name=\"LeakyReLU_4\")(x)\n",
        "x_base_2 = x\n",
        "\n",
        "# Residual layer_1\n",
        "x = Add(name=\"Add_1\")([x_base_2, x_base_1])\n",
        "\n",
        "\n",
        "x = Dense(128, name=\"Dense_5\")(x)\n",
        "x = LeakyReLU(alpha=0.3, name=\"LeakyReLU_5\")(x)\n",
        "\n",
        "x = Dense(64, name=\"Dense_6\")(x)\n",
        "x = LeakyReLU(alpha=0.3, name=\"LeakyReLU_6\")(x)\n",
        "\n",
        "x_base_3 = x\n",
        "x = Dense(128, name=\"Dense_7\")(x)\n",
        "x = LeakyReLU(alpha=0.3, name=\"LeakyReLU_7\")(x)\n",
        "x = Dense(128, name=\"Dense_8\")(x)\n",
        "x = LeakyReLU(alpha=0.3, name=\"LeakyReLU_8\")(x)\n",
        "x = Dense(64, name=\"Dense_9\")(x)\n",
        "x = LeakyReLU(alpha=0.3, name=\"LeakyReLU_9\")(x)\n",
        "x_base_4 = x\n",
        "\n",
        "# Residual layer 2\n",
        "x = Add(name=\"Add_2\")([x_base_3, x_base_4])\n",
        "\n",
        "x = Dense(32, name=\"Dense_10\")(x)\n",
        "x = LeakyReLU(alpha=0.3, name=\"LeakyReLU_10\")(x)\n",
        "x = Dense(32, name=\"Dense_11\")(x)\n",
        "x = LeakyReLU(alpha=0.3, name=\"LeakyReLU_11\")(x)\n",
        "\n",
        "x = Dense(16, name=\"Dense_12\")(x)\n",
        "x = LeakyReLU(alpha=0.3, name=\"LeakyReLU_12\")(x)\n",
        "x = Dense(16, name=\"Dense_13\")(x)\n",
        "x = LeakyReLU(alpha=0.3, name=\"LeakyReLU_13\")(x)\n",
        "\n",
        "outputs = Dense(1, activation='sigmoid', name=\"Output\")(x)\n",
        "\n",
        "model_nn = keras.Model(inputs, outputs, name='v1')\n",
        "plot_model(model_nn)"
      ],
      "execution_count": 30,
      "outputs": [
        {
          "output_type": "execute_result",
          "data": {
            "image/png": "[encoded data removed]",
            "text/plain": [
              "<IPython.core.display.Image object>"
            ]
          },
          "metadata": {},
          "execution_count": 30
        }
      ]
    },
    {
      "cell_type": "code",
      "metadata": {
        "colab": {
          "base_uri": "https://localhost:8080/"
        },
        "id": "jcF8HkIeINdu",
        "outputId": "7607c204-6b65-4bac-d432-fd80b17137aa"
      },
      "source": [
        "model_nn.summary()"
      ],
      "execution_count": 31,
      "outputs": [
        {
          "output_type": "stream",
          "name": "stdout",
          "text": [
            "Model: \"v1\"\n",
            "__________________________________________________________________________________________________\n",
            " Layer (type)                   Output Shape         Param #     Connected to                     \n",
            "==================================================================================================\n",
            " Input (InputLayer)             [(None, 28)]         0           []                               \n",
            "                                                                                                  \n",
            " Dense_1 (Dense)                (None, 64)           1856        ['Input[0][0]']                  \n",
            "                                                                                                  \n",
            " LeakyReLU_1 (LeakyReLU)        (None, 64)           0           ['Dense_1[0][0]']                \n",
            "                                                                                                  \n",
            " Dense_2 (Dense)                (None, 128)          8320        ['LeakyReLU_1[0][0]']            \n",
            "                                                                                                  \n",
            " LeakyReLU_2 (LeakyReLU)        (None, 128)          0           ['Dense_2[0][0]']                \n",
            "                                                                                                  \n",
            " Dense_3 (Dense)                (None, 128)          16512       ['LeakyReLU_2[0][0]']            \n",
            "                                                                                                  \n",
            " LeakyReLU_3 (LeakyReLU)        (None, 128)          0           ['Dense_3[0][0]']                \n",
            "                                                                                                  \n",
            " Dense_4 (Dense)                (None, 64)           8256        ['LeakyReLU_3[0][0]']            \n",
            "                                                                                                  \n",
            " LeakyReLU_4 (LeakyReLU)        (None, 64)           0           ['Dense_4[0][0]']                \n",
            "                                                                                                  \n",
            " Add_1 (Add)                    (None, 64)           0           ['LeakyReLU_4[0][0]',            \n",
            "                                                                  'LeakyReLU_1[0][0]']            \n",
            "                                                                                                  \n",
            " Dense_5 (Dense)                (None, 128)          8320        ['Add_1[0][0]']                  \n",
            "                                                                                                  \n",
            " LeakyReLU_5 (LeakyReLU)        (None, 128)          0           ['Dense_5[0][0]']                \n",
            "                                                                                                  \n",
            " Dense_6 (Dense)                (None, 64)           8256        ['LeakyReLU_5[0][0]']            \n",
            "                                                                                                  \n",
            " LeakyReLU_6 (LeakyReLU)        (None, 64)           0           ['Dense_6[0][0]']                \n",
            "                                                                                                  \n",
            " Dense_7 (Dense)                (None, 128)          8320        ['LeakyReLU_6[0][0]']            \n",
            "                                                                                                  \n",
            " LeakyReLU_7 (LeakyReLU)        (None, 128)          0           ['Dense_7[0][0]']                \n",
            "                                                                                                  \n",
            " Dense_8 (Dense)                (None, 128)          16512       ['LeakyReLU_7[0][0]']            \n",
            "                                                                                                  \n",
            " LeakyReLU_8 (LeakyReLU)        (None, 128)          0           ['Dense_8[0][0]']                \n",
            "                                                                                                  \n",
            " Dense_9 (Dense)                (None, 64)           8256        ['LeakyReLU_8[0][0]']            \n",
            "                                                                                                  \n",
            " LeakyReLU_9 (LeakyReLU)        (None, 64)           0           ['Dense_9[0][0]']                \n",
            "                                                                                                  \n",
            " Add_2 (Add)                    (None, 64)           0           ['LeakyReLU_6[0][0]',            \n",
            "                                                                  'LeakyReLU_9[0][0]']            \n",
            "                                                                                                  \n",
            " Dense_10 (Dense)               (None, 32)           2080        ['Add_2[0][0]']                  \n",
            "                                                                                                  \n",
            " LeakyReLU_10 (LeakyReLU)       (None, 32)           0           ['Dense_10[0][0]']               \n",
            "                                                                                                  \n",
            " Dense_11 (Dense)               (None, 32)           1056        ['LeakyReLU_10[0][0]']           \n",
            "                                                                                                  \n",
            " LeakyReLU_11 (LeakyReLU)       (None, 32)           0           ['Dense_11[0][0]']               \n",
            "                                                                                                  \n",
            " Dense_12 (Dense)               (None, 16)           528         ['LeakyReLU_11[0][0]']           \n",
            "                                                                                                  \n",
            " LeakyReLU_12 (LeakyReLU)       (None, 16)           0           ['Dense_12[0][0]']               \n",
            "                                                                                                  \n",
            " Dense_13 (Dense)               (None, 16)           272         ['LeakyReLU_12[0][0]']           \n",
            "                                                                                                  \n",
            " LeakyReLU_13 (LeakyReLU)       (None, 16)           0           ['Dense_13[0][0]']               \n",
            "                                                                                                  \n",
            " Output (Dense)                 (None, 1)            17          ['LeakyReLU_13[0][0]']           \n",
            "                                                                                                  \n",
            "==================================================================================================\n",
            "Total params: 88,561\n",
            "Trainable params: 88,561\n",
            "Non-trainable params: 0\n",
            "__________________________________________________________________________________________________\n"
          ]
        }
      ]
    },
    {
      "cell_type": "markdown",
      "metadata": {
        "id": "udhrPh3c4JoT"
      },
      "source": [
        "**Train the Neural Network and save your model weights in a h5 file**"
      ]
    },
    {
      "cell_type": "code",
      "metadata": {
        "id": "gDEm75CK3-TT",
        "colab": {
          "base_uri": "https://localhost:8080/"
        },
        "outputId": "e8f36e9a-b3f4-4300-cfa1-eade28330337"
      },
      "source": [
        "# compile the keras model\n",
        "model_nn.compile(loss='binary_crossentropy', optimizer='adam', metrics=['accuracy'])\n",
        "# fit the keras model on the dataset\n",
        "history=model_nn.fit(X, y,validation_data=(X_val,y_val),epochs=200, batch_size=128)\n",
        "# evaluate the keras model\n",
        "_, accuracy = model_nn.evaluate(X_test, y_test)\n",
        "model_nn.save('my_model.h5') ##Saving model weights\n",
        "print('Accuracy: %.2f' % (accuracy*100))"
      ],
      "execution_count": 32,
      "outputs": [
        {
          "output_type": "stream",
          "name": "stdout",
          "text": [
            "Epoch 1/200\n",
            "7813/7813 [==============================] - 54s 6ms/step - loss: 0.5890 - accuracy: 0.6824 - val_loss: 0.5590 - val_accuracy: 0.7097\n",
            "Epoch 2/200\n",
            "7813/7813 [==============================] - 50s 6ms/step - loss: 0.5505 - accuracy: 0.7168 - val_loss: 0.5381 - val_accuracy: 0.7272\n",
            "Epoch 3/200\n",
            "7813/7813 [==============================] - 49s 6ms/step - loss: 0.5327 - accuracy: 0.7295 - val_loss: 0.5248 - val_accuracy: 0.7344\n",
            "Epoch 4/200\n",
            "7813/7813 [==============================] - 49s 6ms/step - loss: 0.5215 - accuracy: 0.7372 - val_loss: 0.5216 - val_accuracy: 0.7375\n",
            "Epoch 5/200\n",
            "7813/7813 [==============================] - 50s 6ms/step - loss: 0.5152 - accuracy: 0.7412 - val_loss: 0.5172 - val_accuracy: 0.7406\n",
            "Epoch 6/200\n",
            "7813/7813 [==============================] - 50s 6ms/step - loss: 0.5108 - accuracy: 0.7442 - val_loss: 0.5075 - val_accuracy: 0.7482\n",
            "Epoch 7/200\n",
            "7813/7813 [==============================] - 52s 7ms/step - loss: 0.5074 - accuracy: 0.7461 - val_loss: 0.5027 - val_accuracy: 0.7504\n",
            "Epoch 8/200\n",
            "7813/7813 [==============================] - 50s 6ms/step - loss: 0.5047 - accuracy: 0.7484 - val_loss: 0.5006 - val_accuracy: 0.7516\n",
            "Epoch 9/200\n",
            "7813/7813 [==============================] - 50s 6ms/step - loss: 0.5023 - accuracy: 0.7495 - val_loss: 0.5025 - val_accuracy: 0.7511\n",
            "Epoch 10/200\n",
            "7813/7813 [==============================] - 52s 7ms/step - loss: 0.5003 - accuracy: 0.7509 - val_loss: 0.5026 - val_accuracy: 0.7499\n",
            "Epoch 11/200\n",
            "7813/7813 [==============================] - 52s 7ms/step - loss: 0.4984 - accuracy: 0.7523 - val_loss: 0.4986 - val_accuracy: 0.7521\n",
            "Epoch 12/200\n",
            "7813/7813 [==============================] - 52s 7ms/step - loss: 0.4961 - accuracy: 0.7536 - val_loss: 0.4973 - val_accuracy: 0.7545\n",
            "Epoch 13/200\n",
            "7813/7813 [==============================] - 52s 7ms/step - loss: 0.4945 - accuracy: 0.7543 - val_loss: 0.4908 - val_accuracy: 0.7573\n",
            "Epoch 14/200\n",
            "7813/7813 [==============================] - 50s 6ms/step - loss: 0.4933 - accuracy: 0.7554 - val_loss: 0.4905 - val_accuracy: 0.7586\n",
            "Epoch 15/200\n",
            "7813/7813 [==============================] - 49s 6ms/step - loss: 0.4917 - accuracy: 0.7563 - val_loss: 0.4931 - val_accuracy: 0.7573\n",
            "Epoch 16/200\n",
            "7813/7813 [==============================] - 51s 7ms/step - loss: 0.4902 - accuracy: 0.7574 - val_loss: 0.4894 - val_accuracy: 0.7584\n",
            "Epoch 17/200\n",
            "7813/7813 [==============================] - 51s 7ms/step - loss: 0.4891 - accuracy: 0.7578 - val_loss: 0.4875 - val_accuracy: 0.7593\n",
            "Epoch 18/200\n",
            "7813/7813 [==============================] - 49s 6ms/step - loss: 0.4879 - accuracy: 0.7588 - val_loss: 0.4858 - val_accuracy: 0.7600\n",
            "Epoch 19/200\n",
            "7813/7813 [==============================] - 51s 7ms/step - loss: 0.4869 - accuracy: 0.7595 - val_loss: 0.4843 - val_accuracy: 0.7618\n",
            "Epoch 20/200\n",
            "7813/7813 [==============================] - 52s 7ms/step - loss: 0.4857 - accuracy: 0.7605 - val_loss: 0.4837 - val_accuracy: 0.7625\n",
            "Epoch 21/200\n",
            "7813/7813 [==============================] - 49s 6ms/step - loss: 0.4849 - accuracy: 0.7607 - val_loss: 0.4848 - val_accuracy: 0.7612\n",
            "Epoch 22/200\n",
            "7813/7813 [==============================] - 51s 7ms/step - loss: 0.4841 - accuracy: 0.7615 - val_loss: 0.4845 - val_accuracy: 0.7619\n",
            "Epoch 23/200\n",
            "7813/7813 [==============================] - 49s 6ms/step - loss: 0.4830 - accuracy: 0.7621 - val_loss: 0.4814 - val_accuracy: 0.7643\n",
            "Epoch 24/200\n",
            "7813/7813 [==============================] - 50s 6ms/step - loss: 0.4825 - accuracy: 0.7624 - val_loss: 0.4783 - val_accuracy: 0.7664\n",
            "Epoch 25/200\n",
            "7813/7813 [==============================] - 51s 7ms/step - loss: 0.4815 - accuracy: 0.7632 - val_loss: 0.4782 - val_accuracy: 0.7665\n",
            "Epoch 26/200\n",
            "7813/7813 [==============================] - 50s 6ms/step - loss: 0.4809 - accuracy: 0.7637 - val_loss: 0.4796 - val_accuracy: 0.7645\n",
            "Epoch 27/200\n",
            "7813/7813 [==============================] - 52s 7ms/step - loss: 0.4801 - accuracy: 0.7643 - val_loss: 0.4794 - val_accuracy: 0.7657\n",
            "Epoch 28/200\n",
            "7813/7813 [==============================] - 49s 6ms/step - loss: 0.4797 - accuracy: 0.7644 - val_loss: 0.4764 - val_accuracy: 0.7680\n",
            "Epoch 29/200\n",
            "7813/7813 [==============================] - 52s 7ms/step - loss: 0.4789 - accuracy: 0.7653 - val_loss: 0.4770 - val_accuracy: 0.7671\n",
            "Epoch 30/200\n",
            "7813/7813 [==============================] - 50s 6ms/step - loss: 0.4782 - accuracy: 0.7651 - val_loss: 0.4764 - val_accuracy: 0.7675\n",
            "Epoch 31/200\n",
            "7813/7813 [==============================] - 52s 7ms/step - loss: 0.4774 - accuracy: 0.7662 - val_loss: 0.4791 - val_accuracy: 0.7655\n",
            "Epoch 32/200\n",
            "7813/7813 [==============================] - 52s 7ms/step - loss: 0.4770 - accuracy: 0.7658 - val_loss: 0.4751 - val_accuracy: 0.7684\n",
            "Epoch 33/200\n",
            "7813/7813 [==============================] - 50s 6ms/step - loss: 0.4760 - accuracy: 0.7664 - val_loss: 0.4740 - val_accuracy: 0.7693\n",
            "Epoch 34/200\n",
            "7813/7813 [==============================] - 49s 6ms/step - loss: 0.4758 - accuracy: 0.7666 - val_loss: 0.4789 - val_accuracy: 0.7655\n",
            "Epoch 35/200\n",
            "7813/7813 [==============================] - 52s 7ms/step - loss: 0.4753 - accuracy: 0.7668 - val_loss: 0.4722 - val_accuracy: 0.7699\n",
            "Epoch 36/200\n",
            "7813/7813 [==============================] - 52s 7ms/step - loss: 0.4747 - accuracy: 0.7672 - val_loss: 0.4729 - val_accuracy: 0.7696\n",
            "Epoch 37/200\n",
            "7813/7813 [==============================] - 52s 7ms/step - loss: 0.4739 - accuracy: 0.7678 - val_loss: 0.4709 - val_accuracy: 0.7707\n",
            "Epoch 38/200\n",
            "7813/7813 [==============================] - 52s 7ms/step - loss: 0.4737 - accuracy: 0.7679 - val_loss: 0.4720 - val_accuracy: 0.7693\n",
            "Epoch 39/200\n",
            "7813/7813 [==============================] - 53s 7ms/step - loss: 0.4731 - accuracy: 0.7688 - val_loss: 0.4735 - val_accuracy: 0.7693\n",
            "Epoch 40/200\n",
            "7813/7813 [==============================] - 50s 6ms/step - loss: 0.4723 - accuracy: 0.7686 - val_loss: 0.4695 - val_accuracy: 0.7718\n",
            "Epoch 41/200\n",
            "7813/7813 [==============================] - 52s 7ms/step - loss: 0.4721 - accuracy: 0.7691 - val_loss: 0.4695 - val_accuracy: 0.7701\n",
            "Epoch 42/200\n",
            "7813/7813 [==============================] - 49s 6ms/step - loss: 0.4715 - accuracy: 0.7694 - val_loss: 0.4698 - val_accuracy: 0.7715\n",
            "Epoch 43/200\n",
            "7813/7813 [==============================] - 49s 6ms/step - loss: 0.4711 - accuracy: 0.7695 - val_loss: 0.4689 - val_accuracy: 0.7717\n",
            "Epoch 44/200\n",
            "7813/7813 [==============================] - 52s 7ms/step - loss: 0.4707 - accuracy: 0.7699 - val_loss: 0.4696 - val_accuracy: 0.7711\n",
            "Epoch 45/200\n",
            "7813/7813 [==============================] - 52s 7ms/step - loss: 0.4703 - accuracy: 0.7703 - val_loss: 0.4684 - val_accuracy: 0.7707\n",
            "Epoch 46/200\n",
            "7813/7813 [==============================] - 50s 6ms/step - loss: 0.4698 - accuracy: 0.7706 - val_loss: 0.4659 - val_accuracy: 0.7731\n",
            "Epoch 47/200\n",
            "7813/7813 [==============================] - 49s 6ms/step - loss: 0.4693 - accuracy: 0.7708 - val_loss: 0.4725 - val_accuracy: 0.7699\n",
            "Epoch 48/200\n",
            "7813/7813 [==============================] - 49s 6ms/step - loss: 0.4689 - accuracy: 0.7712 - val_loss: 0.4713 - val_accuracy: 0.7706\n",
            "Epoch 49/200\n",
            "7813/7813 [==============================] - 52s 7ms/step - loss: 0.4687 - accuracy: 0.7710 - val_loss: 0.4699 - val_accuracy: 0.7699\n",
            "Epoch 50/200\n",
            "7813/7813 [==============================] - 50s 6ms/step - loss: 0.4681 - accuracy: 0.7714 - val_loss: 0.4660 - val_accuracy: 0.7733\n",
            "Epoch 51/200\n",
            "7813/7813 [==============================] - 52s 7ms/step - loss: 0.4677 - accuracy: 0.7719 - val_loss: 0.4692 - val_accuracy: 0.7714\n",
            "Epoch 52/200\n",
            "7813/7813 [==============================] - 52s 7ms/step - loss: 0.4675 - accuracy: 0.7721 - val_loss: 0.4664 - val_accuracy: 0.7729\n",
            "Epoch 53/200\n",
            "7813/7813 [==============================] - 52s 7ms/step - loss: 0.4668 - accuracy: 0.7722 - val_loss: 0.4673 - val_accuracy: 0.7716\n",
            "Epoch 54/200\n",
            "7813/7813 [==============================] - 51s 7ms/step - loss: 0.4666 - accuracy: 0.7727 - val_loss: 0.4649 - val_accuracy: 0.7746\n",
            "Epoch 55/200\n",
            "7813/7813 [==============================] - 51s 7ms/step - loss: 0.4662 - accuracy: 0.7728 - val_loss: 0.4630 - val_accuracy: 0.7747\n",
            "Epoch 56/200\n",
            "7813/7813 [==============================] - 51s 7ms/step - loss: 0.4660 - accuracy: 0.7731 - val_loss: 0.4658 - val_accuracy: 0.7736\n",
            "Epoch 57/200\n",
            "7813/7813 [==============================] - 51s 7ms/step - loss: 0.4655 - accuracy: 0.7733 - val_loss: 0.4616 - val_accuracy: 0.7752\n",
            "Epoch 58/200\n",
            "7813/7813 [==============================] - 51s 7ms/step - loss: 0.4651 - accuracy: 0.7731 - val_loss: 0.4641 - val_accuracy: 0.7753\n",
            "Epoch 59/200\n",
            "7813/7813 [==============================] - 49s 6ms/step - loss: 0.4649 - accuracy: 0.7735 - val_loss: 0.4634 - val_accuracy: 0.7752\n",
            "Epoch 60/200\n",
            "7813/7813 [==============================] - 51s 7ms/step - loss: 0.4645 - accuracy: 0.7738 - val_loss: 0.4628 - val_accuracy: 0.7756\n",
            "Epoch 61/200\n",
            "7813/7813 [==============================] - 51s 7ms/step - loss: 0.4642 - accuracy: 0.7739 - val_loss: 0.4608 - val_accuracy: 0.7766\n",
            "Epoch 62/200\n",
            "7813/7813 [==============================] - 52s 7ms/step - loss: 0.4639 - accuracy: 0.7743 - val_loss: 0.4603 - val_accuracy: 0.7756\n",
            "Epoch 63/200\n",
            "7813/7813 [==============================] - 50s 6ms/step - loss: 0.4637 - accuracy: 0.7744 - val_loss: 0.4612 - val_accuracy: 0.7764\n",
            "Epoch 64/200\n",
            "7813/7813 [==============================] - 52s 7ms/step - loss: 0.4631 - accuracy: 0.7746 - val_loss: 0.4610 - val_accuracy: 0.7778\n",
            "Epoch 65/200\n",
            "7813/7813 [==============================] - 50s 6ms/step - loss: 0.4629 - accuracy: 0.7748 - val_loss: 0.4593 - val_accuracy: 0.7783\n",
            "Epoch 66/200\n",
            "7813/7813 [==============================] - 52s 7ms/step - loss: 0.4627 - accuracy: 0.7755 - val_loss: 0.4613 - val_accuracy: 0.7761\n",
            "Epoch 67/200\n",
            "7813/7813 [==============================] - 49s 6ms/step - loss: 0.4623 - accuracy: 0.7754 - val_loss: 0.4595 - val_accuracy: 0.7784\n",
            "Epoch 68/200\n",
            "7813/7813 [==============================] - 52s 7ms/step - loss: 0.4619 - accuracy: 0.7754 - val_loss: 0.4596 - val_accuracy: 0.7761\n",
            "Epoch 69/200\n",
            "7813/7813 [==============================] - 49s 6ms/step - loss: 0.4615 - accuracy: 0.7757 - val_loss: 0.4585 - val_accuracy: 0.7779\n",
            "Epoch 70/200\n",
            "7813/7813 [==============================] - 51s 7ms/step - loss: 0.4614 - accuracy: 0.7761 - val_loss: 0.4596 - val_accuracy: 0.7772\n",
            "Epoch 71/200\n",
            "7813/7813 [==============================] - 52s 7ms/step - loss: 0.4611 - accuracy: 0.7764 - val_loss: 0.4573 - val_accuracy: 0.7785\n",
            "Epoch 72/200\n",
            "7813/7813 [==============================] - 49s 6ms/step - loss: 0.4607 - accuracy: 0.7761 - val_loss: 0.4588 - val_accuracy: 0.7775\n",
            "Epoch 73/200\n",
            "7813/7813 [==============================] - 51s 7ms/step - loss: 0.4606 - accuracy: 0.7765 - val_loss: 0.4563 - val_accuracy: 0.7801\n",
            "Epoch 74/200\n",
            "7813/7813 [==============================] - 51s 7ms/step - loss: 0.4602 - accuracy: 0.7763 - val_loss: 0.4569 - val_accuracy: 0.7790\n",
            "Epoch 75/200\n",
            "7813/7813 [==============================] - 52s 7ms/step - loss: 0.4600 - accuracy: 0.7767 - val_loss: 0.4575 - val_accuracy: 0.7786\n",
            "Epoch 76/200\n",
            "7813/7813 [==============================] - 49s 6ms/step - loss: 0.4598 - accuracy: 0.7766 - val_loss: 0.4548 - val_accuracy: 0.7810\n",
            "Epoch 77/200\n",
            "7813/7813 [==============================] - 49s 6ms/step - loss: 0.4594 - accuracy: 0.7773 - val_loss: 0.4596 - val_accuracy: 0.7783\n",
            "Epoch 78/200\n",
            "7813/7813 [==============================] - 52s 7ms/step - loss: 0.4591 - accuracy: 0.7774 - val_loss: 0.4568 - val_accuracy: 0.7799\n",
            "Epoch 79/200\n",
            "7813/7813 [==============================] - 51s 6ms/step - loss: 0.4590 - accuracy: 0.7776 - val_loss: 0.4558 - val_accuracy: 0.7800\n",
            "Epoch 80/200\n",
            "7813/7813 [==============================] - 50s 6ms/step - loss: 0.4586 - accuracy: 0.7777 - val_loss: 0.4553 - val_accuracy: 0.7793\n",
            "Epoch 81/200\n",
            "7813/7813 [==============================] - 52s 7ms/step - loss: 0.4586 - accuracy: 0.7776 - val_loss: 0.4571 - val_accuracy: 0.7783\n",
            "Epoch 82/200\n",
            "7813/7813 [==============================] - 52s 7ms/step - loss: 0.4582 - accuracy: 0.7775 - val_loss: 0.4556 - val_accuracy: 0.7787\n",
            "Epoch 83/200\n",
            "7813/7813 [==============================] - 50s 6ms/step - loss: 0.4580 - accuracy: 0.7781 - val_loss: 0.4567 - val_accuracy: 0.7799\n",
            "Epoch 84/200\n",
            "7813/7813 [==============================] - 50s 6ms/step - loss: 0.4577 - accuracy: 0.7784 - val_loss: 0.4559 - val_accuracy: 0.7805\n",
            "Epoch 85/200\n",
            "7813/7813 [==============================] - 51s 6ms/step - loss: 0.4575 - accuracy: 0.7784 - val_loss: 0.4550 - val_accuracy: 0.7793\n",
            "Epoch 86/200\n",
            "7813/7813 [==============================] - 53s 7ms/step - loss: 0.4571 - accuracy: 0.7785 - val_loss: 0.4548 - val_accuracy: 0.7800\n",
            "Epoch 87/200\n",
            "7813/7813 [==============================] - 53s 7ms/step - loss: 0.4570 - accuracy: 0.7786 - val_loss: 0.4563 - val_accuracy: 0.7788\n",
            "Epoch 88/200\n",
            "7813/7813 [==============================] - 53s 7ms/step - loss: 0.4567 - accuracy: 0.7785 - val_loss: 0.4549 - val_accuracy: 0.7795\n",
            "Epoch 89/200\n",
            "7813/7813 [==============================] - 51s 6ms/step - loss: 0.4565 - accuracy: 0.7790 - val_loss: 0.4576 - val_accuracy: 0.7782\n",
            "Epoch 90/200\n",
            "7813/7813 [==============================] - 52s 7ms/step - loss: 0.4564 - accuracy: 0.7790 - val_loss: 0.4520 - val_accuracy: 0.7818\n",
            "Epoch 91/200\n",
            "7813/7813 [==============================] - 50s 6ms/step - loss: 0.4561 - accuracy: 0.7793 - val_loss: 0.4538 - val_accuracy: 0.7805\n",
            "Epoch 92/200\n",
            "7813/7813 [==============================] - 52s 7ms/step - loss: 0.4558 - accuracy: 0.7796 - val_loss: 0.4528 - val_accuracy: 0.7818\n",
            "Epoch 93/200\n",
            "7813/7813 [==============================] - 53s 7ms/step - loss: 0.4556 - accuracy: 0.7794 - val_loss: 0.4534 - val_accuracy: 0.7811\n",
            "Epoch 94/200\n",
            "7813/7813 [==============================] - 53s 7ms/step - loss: 0.4551 - accuracy: 0.7795 - val_loss: 0.4550 - val_accuracy: 0.7806\n",
            "Epoch 95/200\n",
            "7813/7813 [==============================] - 53s 7ms/step - loss: 0.4550 - accuracy: 0.7794 - val_loss: 0.4510 - val_accuracy: 0.7822\n",
            "Epoch 96/200\n",
            "7813/7813 [==============================] - 53s 7ms/step - loss: 0.4549 - accuracy: 0.7799 - val_loss: 0.4526 - val_accuracy: 0.7809\n",
            "Epoch 97/200\n",
            "7813/7813 [==============================] - 51s 6ms/step - loss: 0.4547 - accuracy: 0.7801 - val_loss: 0.4531 - val_accuracy: 0.7799\n",
            "Epoch 98/200\n",
            "7813/7813 [==============================] - 53s 7ms/step - loss: 0.4544 - accuracy: 0.7800 - val_loss: 0.4509 - val_accuracy: 0.7823\n",
            "Epoch 99/200\n",
            "7813/7813 [==============================] - 53s 7ms/step - loss: 0.4542 - accuracy: 0.7805 - val_loss: 0.4522 - val_accuracy: 0.7818\n",
            "Epoch 100/200\n",
            "7813/7813 [==============================] - 53s 7ms/step - loss: 0.4542 - accuracy: 0.7807 - val_loss: 0.4524 - val_accuracy: 0.7814\n",
            "Epoch 101/200\n",
            "7813/7813 [==============================] - 51s 6ms/step - loss: 0.4540 - accuracy: 0.7807 - val_loss: 0.4497 - val_accuracy: 0.7829\n",
            "Epoch 102/200\n",
            "7813/7813 [==============================] - 51s 7ms/step - loss: 0.4538 - accuracy: 0.7808 - val_loss: 0.4522 - val_accuracy: 0.7817\n",
            "Epoch 103/200\n",
            "7813/7813 [==============================] - 53s 7ms/step - loss: 0.4535 - accuracy: 0.7811 - val_loss: 0.4500 - val_accuracy: 0.7820\n",
            "Epoch 104/200\n",
            "7813/7813 [==============================] - 53s 7ms/step - loss: 0.4532 - accuracy: 0.7811 - val_loss: 0.4507 - val_accuracy: 0.7834\n",
            "Epoch 105/200\n",
            "7813/7813 [==============================] - 51s 7ms/step - loss: 0.4530 - accuracy: 0.7811 - val_loss: 0.4500 - val_accuracy: 0.7839\n",
            "Epoch 106/200\n",
            "7813/7813 [==============================] - 51s 6ms/step - loss: 0.4530 - accuracy: 0.7811 - val_loss: 0.4505 - val_accuracy: 0.7829\n",
            "Epoch 107/200\n",
            "7813/7813 [==============================] - 51s 7ms/step - loss: 0.4527 - accuracy: 0.7812 - val_loss: 0.4517 - val_accuracy: 0.7828\n",
            "Epoch 108/200\n",
            "7813/7813 [==============================] - 51s 7ms/step - loss: 0.4527 - accuracy: 0.7810 - val_loss: 0.4488 - val_accuracy: 0.7832\n",
            "Epoch 109/200\n",
            "7813/7813 [==============================] - 54s 7ms/step - loss: 0.4523 - accuracy: 0.7817 - val_loss: 0.4490 - val_accuracy: 0.7838\n",
            "Epoch 110/200\n",
            "7813/7813 [==============================] - 52s 7ms/step - loss: 0.4523 - accuracy: 0.7816 - val_loss: 0.4503 - val_accuracy: 0.7821\n",
            "Epoch 111/200\n",
            "7813/7813 [==============================] - 52s 7ms/step - loss: 0.4519 - accuracy: 0.7817 - val_loss: 0.4523 - val_accuracy: 0.7824\n",
            "Epoch 112/200\n",
            "7813/7813 [==============================] - 51s 7ms/step - loss: 0.4518 - accuracy: 0.7818 - val_loss: 0.4487 - val_accuracy: 0.7836\n",
            "Epoch 113/200\n",
            "7813/7813 [==============================] - 51s 7ms/step - loss: 0.4515 - accuracy: 0.7824 - val_loss: 0.4494 - val_accuracy: 0.7837\n",
            "Epoch 114/200\n",
            "7813/7813 [==============================] - 51s 7ms/step - loss: 0.4511 - accuracy: 0.7821 - val_loss: 0.4479 - val_accuracy: 0.7828\n",
            "Epoch 115/200\n",
            "7813/7813 [==============================] - 55s 7ms/step - loss: 0.4512 - accuracy: 0.7819 - val_loss: 0.4470 - val_accuracy: 0.7852\n",
            "Epoch 116/200\n",
            "7813/7813 [==============================] - 54s 7ms/step - loss: 0.4510 - accuracy: 0.7822 - val_loss: 0.4471 - val_accuracy: 0.7845\n",
            "Epoch 117/200\n",
            "7813/7813 [==============================] - 52s 7ms/step - loss: 0.4506 - accuracy: 0.7826 - val_loss: 0.4501 - val_accuracy: 0.7822\n",
            "Epoch 118/200\n",
            "7813/7813 [==============================] - 54s 7ms/step - loss: 0.4505 - accuracy: 0.7827 - val_loss: 0.4463 - val_accuracy: 0.7843\n",
            "Epoch 119/200\n",
            "7813/7813 [==============================] - 54s 7ms/step - loss: 0.4505 - accuracy: 0.7827 - val_loss: 0.4497 - val_accuracy: 0.7834\n",
            "Epoch 120/200\n",
            "7813/7813 [==============================] - 52s 7ms/step - loss: 0.4502 - accuracy: 0.7830 - val_loss: 0.4495 - val_accuracy: 0.7844\n",
            "Epoch 121/200\n",
            "7813/7813 [==============================] - 54s 7ms/step - loss: 0.4500 - accuracy: 0.7829 - val_loss: 0.4463 - val_accuracy: 0.7844\n",
            "Epoch 122/200\n",
            "7813/7813 [==============================] - 54s 7ms/step - loss: 0.4498 - accuracy: 0.7828 - val_loss: 0.4495 - val_accuracy: 0.7836\n",
            "Epoch 123/200\n",
            "7813/7813 [==============================] - 55s 7ms/step - loss: 0.4496 - accuracy: 0.7832 - val_loss: 0.4471 - val_accuracy: 0.7848\n",
            "Epoch 124/200\n",
            "7813/7813 [==============================] - 57s 7ms/step - loss: 0.4497 - accuracy: 0.7830 - val_loss: 0.4496 - val_accuracy: 0.7841\n",
            "Epoch 125/200\n",
            "7813/7813 [==============================] - 55s 7ms/step - loss: 0.4493 - accuracy: 0.7833 - val_loss: 0.4468 - val_accuracy: 0.7846\n",
            "Epoch 126/200\n",
            "7813/7813 [==============================] - 51s 7ms/step - loss: 0.4493 - accuracy: 0.7834 - val_loss: 0.4483 - val_accuracy: 0.7853\n",
            "Epoch 127/200\n",
            "7813/7813 [==============================] - 54s 7ms/step - loss: 0.4489 - accuracy: 0.7838 - val_loss: 0.4486 - val_accuracy: 0.7842\n",
            "Epoch 128/200\n",
            "7813/7813 [==============================] - 51s 6ms/step - loss: 0.4489 - accuracy: 0.7837 - val_loss: 0.4525 - val_accuracy: 0.7831\n",
            "Epoch 129/200\n",
            "7813/7813 [==============================] - 52s 7ms/step - loss: 0.4486 - accuracy: 0.7835 - val_loss: 0.4465 - val_accuracy: 0.7849\n",
            "Epoch 130/200\n",
            "7813/7813 [==============================] - 51s 7ms/step - loss: 0.4484 - accuracy: 0.7837 - val_loss: 0.4470 - val_accuracy: 0.7848\n",
            "Epoch 131/200\n",
            "7813/7813 [==============================] - 53s 7ms/step - loss: 0.4482 - accuracy: 0.7841 - val_loss: 0.4479 - val_accuracy: 0.7839\n",
            "Epoch 132/200\n",
            "7813/7813 [==============================] - 51s 6ms/step - loss: 0.4480 - accuracy: 0.7844 - val_loss: 0.4476 - val_accuracy: 0.7848\n",
            "Epoch 133/200\n",
            "7813/7813 [==============================] - 53s 7ms/step - loss: 0.4482 - accuracy: 0.7840 - val_loss: 0.4462 - val_accuracy: 0.7854\n",
            "Epoch 134/200\n",
            "7813/7813 [==============================] - 51s 7ms/step - loss: 0.4479 - accuracy: 0.7844 - val_loss: 0.4496 - val_accuracy: 0.7832\n",
            "Epoch 135/200\n",
            "7813/7813 [==============================] - 51s 7ms/step - loss: 0.4476 - accuracy: 0.7842 - val_loss: 0.4463 - val_accuracy: 0.7857\n",
            "Epoch 136/200\n",
            "7813/7813 [==============================] - 51s 7ms/step - loss: 0.4475 - accuracy: 0.7845 - val_loss: 0.4447 - val_accuracy: 0.7864\n",
            "Epoch 137/200\n",
            "7813/7813 [==============================] - 51s 7ms/step - loss: 0.4474 - accuracy: 0.7849 - val_loss: 0.4476 - val_accuracy: 0.7864\n",
            "Epoch 138/200\n",
            "7813/7813 [==============================] - 51s 7ms/step - loss: 0.4472 - accuracy: 0.7848 - val_loss: 0.4457 - val_accuracy: 0.7856\n",
            "Epoch 139/200\n",
            "7813/7813 [==============================] - 53s 7ms/step - loss: 0.4472 - accuracy: 0.7848 - val_loss: 0.4449 - val_accuracy: 0.7862\n",
            "Epoch 140/200\n",
            "7813/7813 [==============================] - 54s 7ms/step - loss: 0.4469 - accuracy: 0.7847 - val_loss: 0.4457 - val_accuracy: 0.7858\n",
            "Epoch 141/200\n",
            "7813/7813 [==============================] - 52s 7ms/step - loss: 0.4467 - accuracy: 0.7852 - val_loss: 0.4429 - val_accuracy: 0.7869\n",
            "Epoch 142/200\n",
            "7813/7813 [==============================] - 51s 7ms/step - loss: 0.4464 - accuracy: 0.7852 - val_loss: 0.4447 - val_accuracy: 0.7850\n",
            "Epoch 143/200\n",
            "7813/7813 [==============================] - 53s 7ms/step - loss: 0.4464 - accuracy: 0.7853 - val_loss: 0.4452 - val_accuracy: 0.7847\n",
            "Epoch 144/200\n",
            "7813/7813 [==============================] - 51s 7ms/step - loss: 0.4463 - accuracy: 0.7851 - val_loss: 0.4438 - val_accuracy: 0.7865\n",
            "Epoch 145/200\n",
            "7813/7813 [==============================] - 54s 7ms/step - loss: 0.4461 - accuracy: 0.7850 - val_loss: 0.4433 - val_accuracy: 0.7866\n",
            "Epoch 146/200\n",
            "7813/7813 [==============================] - 51s 7ms/step - loss: 0.4460 - accuracy: 0.7853 - val_loss: 0.4430 - val_accuracy: 0.7868\n",
            "Epoch 147/200\n",
            "7813/7813 [==============================] - 54s 7ms/step - loss: 0.4458 - accuracy: 0.7856 - val_loss: 0.4450 - val_accuracy: 0.7864\n",
            "Epoch 148/200\n",
            "7813/7813 [==============================] - 54s 7ms/step - loss: 0.4459 - accuracy: 0.7853 - val_loss: 0.4419 - val_accuracy: 0.7876\n",
            "Epoch 149/200\n",
            "7813/7813 [==============================] - 54s 7ms/step - loss: 0.4455 - accuracy: 0.7858 - val_loss: 0.4402 - val_accuracy: 0.7882\n",
            "Epoch 150/200\n",
            "7813/7813 [==============================] - 54s 7ms/step - loss: 0.4452 - accuracy: 0.7859 - val_loss: 0.4441 - val_accuracy: 0.7870\n",
            "Epoch 151/200\n",
            "7813/7813 [==============================] - 52s 7ms/step - loss: 0.4453 - accuracy: 0.7861 - val_loss: 0.4427 - val_accuracy: 0.7873\n",
            "Epoch 152/200\n",
            "7813/7813 [==============================] - 56s 7ms/step - loss: 0.4452 - accuracy: 0.7859 - val_loss: 0.4423 - val_accuracy: 0.7868\n",
            "Epoch 153/200\n",
            "7813/7813 [==============================] - 53s 7ms/step - loss: 0.4450 - accuracy: 0.7860 - val_loss: 0.4430 - val_accuracy: 0.7869\n",
            "Epoch 154/200\n",
            "7813/7813 [==============================] - 54s 7ms/step - loss: 0.4450 - accuracy: 0.7858 - val_loss: 0.4406 - val_accuracy: 0.7886\n",
            "Epoch 155/200\n",
            "7813/7813 [==============================] - 57s 7ms/step - loss: 0.4446 - accuracy: 0.7863 - val_loss: 0.4398 - val_accuracy: 0.7879\n",
            "Epoch 156/200\n",
            "7813/7813 [==============================] - 58s 7ms/step - loss: 0.4444 - accuracy: 0.7861 - val_loss: 0.4434 - val_accuracy: 0.7865\n",
            "Epoch 157/200\n",
            "7813/7813 [==============================] - 55s 7ms/step - loss: 0.4443 - accuracy: 0.7864 - val_loss: 0.4465 - val_accuracy: 0.7867\n",
            "Epoch 158/200\n",
            "7813/7813 [==============================] - 56s 7ms/step - loss: 0.4441 - accuracy: 0.7865 - val_loss: 0.4393 - val_accuracy: 0.7895\n",
            "Epoch 159/200\n",
            "7813/7813 [==============================] - 53s 7ms/step - loss: 0.4439 - accuracy: 0.7865 - val_loss: 0.4422 - val_accuracy: 0.7879\n",
            "Epoch 160/200\n",
            "7813/7813 [==============================] - 55s 7ms/step - loss: 0.4440 - accuracy: 0.7868 - val_loss: 0.4425 - val_accuracy: 0.7858\n",
            "Epoch 161/200\n",
            "7813/7813 [==============================] - 53s 7ms/step - loss: 0.4438 - accuracy: 0.7866 - val_loss: 0.4414 - val_accuracy: 0.7877\n",
            "Epoch 162/200\n",
            "7813/7813 [==============================] - 56s 7ms/step - loss: 0.4435 - accuracy: 0.7867 - val_loss: 0.4411 - val_accuracy: 0.7888\n",
            "Epoch 163/200\n",
            "7813/7813 [==============================] - 52s 7ms/step - loss: 0.4434 - accuracy: 0.7872 - val_loss: 0.4405 - val_accuracy: 0.7887\n",
            "Epoch 164/200\n",
            "7813/7813 [==============================] - 55s 7ms/step - loss: 0.4434 - accuracy: 0.7868 - val_loss: 0.4392 - val_accuracy: 0.7884\n",
            "Epoch 165/200\n",
            "7813/7813 [==============================] - 54s 7ms/step - loss: 0.4431 - accuracy: 0.7872 - val_loss: 0.4443 - val_accuracy: 0.7884\n",
            "Epoch 166/200\n",
            "7813/7813 [==============================] - 52s 7ms/step - loss: 0.4430 - accuracy: 0.7872 - val_loss: 0.4405 - val_accuracy: 0.7899\n",
            "Epoch 167/200\n",
            "7813/7813 [==============================] - 55s 7ms/step - loss: 0.4430 - accuracy: 0.7872 - val_loss: 0.4419 - val_accuracy: 0.7871\n",
            "Epoch 168/200\n",
            "7813/7813 [==============================] - 52s 7ms/step - loss: 0.4428 - accuracy: 0.7873 - val_loss: 0.4398 - val_accuracy: 0.7885\n",
            "Epoch 169/200\n",
            "7813/7813 [==============================] - 55s 7ms/step - loss: 0.4427 - accuracy: 0.7872 - val_loss: 0.4398 - val_accuracy: 0.7890\n",
            "Epoch 170/200\n",
            "7813/7813 [==============================] - 52s 7ms/step - loss: 0.4426 - accuracy: 0.7875 - val_loss: 0.4422 - val_accuracy: 0.7872\n",
            "Epoch 171/200\n",
            "7813/7813 [==============================] - 52s 7ms/step - loss: 0.4425 - accuracy: 0.7880 - val_loss: 0.4389 - val_accuracy: 0.7887\n",
            "Epoch 172/200\n",
            "7813/7813 [==============================] - 52s 7ms/step - loss: 0.4424 - accuracy: 0.7878 - val_loss: 0.4406 - val_accuracy: 0.7882\n",
            "Epoch 173/200\n",
            "7813/7813 [==============================] - 53s 7ms/step - loss: 0.4424 - accuracy: 0.7878 - val_loss: 0.4410 - val_accuracy: 0.7883\n",
            "Epoch 174/200\n",
            "7813/7813 [==============================] - 53s 7ms/step - loss: 0.4420 - accuracy: 0.7877 - val_loss: 0.4419 - val_accuracy: 0.7869\n",
            "Epoch 175/200\n",
            "7813/7813 [==============================] - 55s 7ms/step - loss: 0.4421 - accuracy: 0.7880 - val_loss: 0.4374 - val_accuracy: 0.7910\n",
            "Epoch 176/200\n",
            "7813/7813 [==============================] - 55s 7ms/step - loss: 0.4418 - accuracy: 0.7879 - val_loss: 0.4411 - val_accuracy: 0.7888\n",
            "Epoch 177/200\n",
            "7813/7813 [==============================] - 54s 7ms/step - loss: 0.4417 - accuracy: 0.7883 - val_loss: 0.4386 - val_accuracy: 0.7893\n",
            "Epoch 178/200\n",
            "7813/7813 [==============================] - 54s 7ms/step - loss: 0.4416 - accuracy: 0.7880 - val_loss: 0.4396 - val_accuracy: 0.7907\n",
            "Epoch 179/200\n",
            "7813/7813 [==============================] - 55s 7ms/step - loss: 0.4414 - accuracy: 0.7881 - val_loss: 0.4442 - val_accuracy: 0.7859\n",
            "Epoch 180/200\n",
            "7813/7813 [==============================] - 55s 7ms/step - loss: 0.4414 - accuracy: 0.7883 - val_loss: 0.4415 - val_accuracy: 0.7875\n",
            "Epoch 181/200\n",
            "7813/7813 [==============================] - 58s 7ms/step - loss: 0.4413 - accuracy: 0.7878 - val_loss: 0.4393 - val_accuracy: 0.7887\n",
            "Epoch 182/200\n",
            "7813/7813 [==============================] - 58s 7ms/step - loss: 0.4410 - accuracy: 0.7883 - val_loss: 0.4387 - val_accuracy: 0.7900\n",
            "Epoch 183/200\n",
            "7813/7813 [==============================] - 58s 7ms/step - loss: 0.4410 - accuracy: 0.7886 - val_loss: 0.4375 - val_accuracy: 0.7910\n",
            "Epoch 184/200\n",
            "7813/7813 [==============================] - 55s 7ms/step - loss: 0.4409 - accuracy: 0.7885 - val_loss: 0.4370 - val_accuracy: 0.7901\n",
            "Epoch 185/200\n",
            "7813/7813 [==============================] - 56s 7ms/step - loss: 0.4407 - accuracy: 0.7884 - val_loss: 0.4378 - val_accuracy: 0.7897\n",
            "Epoch 186/200\n",
            "7813/7813 [==============================] - 53s 7ms/step - loss: 0.4407 - accuracy: 0.7887 - val_loss: 0.4380 - val_accuracy: 0.7891\n",
            "Epoch 187/200\n",
            "7813/7813 [==============================] - 55s 7ms/step - loss: 0.4405 - accuracy: 0.7887 - val_loss: 0.4383 - val_accuracy: 0.7908\n",
            "Epoch 188/200\n",
            "7813/7813 [==============================] - 54s 7ms/step - loss: 0.4403 - accuracy: 0.7889 - val_loss: 0.4361 - val_accuracy: 0.7908\n",
            "Epoch 189/200\n",
            "7813/7813 [==============================] - 56s 7ms/step - loss: 0.4404 - accuracy: 0.7890 - val_loss: 0.4368 - val_accuracy: 0.7900\n",
            "Epoch 190/200\n",
            "7813/7813 [==============================] - 56s 7ms/step - loss: 0.4403 - accuracy: 0.7890 - val_loss: 0.4350 - val_accuracy: 0.7906\n",
            "Epoch 191/200\n",
            "7813/7813 [==============================] - 56s 7ms/step - loss: 0.4399 - accuracy: 0.7888 - val_loss: 0.4343 - val_accuracy: 0.7912\n",
            "Epoch 192/200\n",
            "7813/7813 [==============================] - 56s 7ms/step - loss: 0.4401 - accuracy: 0.7891 - val_loss: 0.4526 - val_accuracy: 0.7870\n",
            "Epoch 193/200\n",
            "7813/7813 [==============================] - 56s 7ms/step - loss: 0.4398 - accuracy: 0.7891 - val_loss: 0.4442 - val_accuracy: 0.7900\n",
            "Epoch 194/200\n",
            "7813/7813 [==============================] - 54s 7ms/step - loss: 0.4399 - accuracy: 0.7890 - val_loss: 0.4368 - val_accuracy: 0.7911\n",
            "Epoch 195/200\n",
            "7813/7813 [==============================] - 54s 7ms/step - loss: 0.4395 - accuracy: 0.7895 - val_loss: 0.4400 - val_accuracy: 0.7889\n",
            "Epoch 196/200\n",
            "7813/7813 [==============================] - 56s 7ms/step - loss: 0.4397 - accuracy: 0.7892 - val_loss: 0.4385 - val_accuracy: 0.7894\n",
            "Epoch 197/200\n",
            "7813/7813 [==============================] - 54s 7ms/step - loss: 0.4392 - accuracy: 0.7898 - val_loss: 0.4361 - val_accuracy: 0.7921\n",
            "Epoch 198/200\n",
            "7813/7813 [==============================] - 56s 7ms/step - loss: 0.4392 - accuracy: 0.7891 - val_loss: 0.4353 - val_accuracy: 0.7921\n",
            "Epoch 199/200\n",
            "7813/7813 [==============================] - 56s 7ms/step - loss: 0.4391 - accuracy: 0.7898 - val_loss: 0.4370 - val_accuracy: 0.7914\n",
            "Epoch 200/200\n",
            "7813/7813 [==============================] - 56s 7ms/step - loss: 0.4391 - accuracy: 0.7896 - val_loss: 0.4336 - val_accuracy: 0.7925\n",
            "10313/10313 [==============================] - 41s 4ms/step - loss: 0.4309 - accuracy: 0.7943\n",
            "Accuracy: 79.43\n"
          ]
        },
        {
          "output_type": "stream",
          "name": "stderr",
          "text": [
            "/usr/local/lib/python3.7/dist-packages/keras/engine/functional.py:1410: CustomMaskWarning: Custom mask layers require a config and must override get_config. When loading, the custom mask layer must be passed to the custom_objects argument.\n",
            "  layer_config = serialize_layer_fn(layer)\n"
          ]
        }
      ]
    },
    {
      "cell_type": "code",
      "metadata": {
        "id": "2rVEZ6oj_Km9",
        "colab": {
          "base_uri": "https://localhost:8080/"
        },
        "outputId": "c974d22f-91a0-481b-d867-ea6da6cda709"
      },
      "source": [
        "# list all data in history\n",
        "print(history.history.keys())"
      ],
      "execution_count": 33,
      "outputs": [
        {
          "output_type": "stream",
          "name": "stdout",
          "text": [
            "dict_keys(['loss', 'accuracy', 'val_loss', 'val_accuracy'])\n"
          ]
        }
      ]
    },
    {
      "cell_type": "markdown",
      "metadata": {
        "id": "8KAg7JEiU3Na"
      },
      "source": [
        "**Plot accuracy wrt number of epochs**"
      ]
    },
    {
      "cell_type": "code",
      "metadata": {
        "id": "8wQsZEa9PYJw",
        "colab": {
          "base_uri": "https://localhost:8080/",
          "height": 295
        },
        "outputId": "1b0fc12f-4739-4b7c-8d51-e0d70d5bc705"
      },
      "source": [
        "\n",
        "# summarize history for accuracy\n",
        "plt.plot(history.history['accuracy'])\n",
        "plt.plot(history.history['val_accuracy'])\n",
        "plt.title('model accuracy')\n",
        "plt.ylabel('accuracy')\n",
        "plt.xlabel('epoch')\n",
        "plt.legend(['train', 'test'], loc='upper left')\n",
        "plt.show()\n"
      ],
      "execution_count": 34,
      "outputs": [
        {
          "output_type": "display_data",
          "data": {
            "image/png": "[encoded data removed]",
            "text/plain": [
              "<Figure size 432x288 with 1 Axes>"
            ]
          },
          "metadata": {
            "needs_background": "light"
          }
        }
      ]
    },
    {
      "cell_type": "markdown",
      "metadata": {
        "id": "mb_eTlfgUzsR"
      },
      "source": [
        "**Plot training loss wrt number of epochs**"
      ]
    },
    {
      "cell_type": "code",
      "metadata": {
        "id": "-jyiKksT_JjN",
        "colab": {
          "base_uri": "https://localhost:8080/",
          "height": 295
        },
        "outputId": "66b9a74a-5a88-4014-da9a-0e4bef4c9f6b"
      },
      "source": [
        "# summarize history for loss\n",
        "plt.plot(history.history['loss'])\n",
        "plt.plot(history.history['val_loss'])\n",
        "plt.title('model loss')\n",
        "plt.ylabel('loss')\n",
        "plt.xlabel('epoch')\n",
        "plt.legend(['train', 'test'], loc='upper left')\n",
        "plt.show()"
      ],
      "execution_count": 35,
      "outputs": [
        {
          "output_type": "display_data",
          "data": {
            "image/png": "[encoded data removed]",
            "text/plain": [
              "<Figure size 432x288 with 1 Axes>"
            ]
          },
          "metadata": {
            "needs_background": "light"
          }
        }
      ]
    },
    {
      "cell_type": "code",
      "metadata": {
        "id": "iYlPzQroWxiC"
      },
      "source": [
        "y_pred=model_nn.predict(X_test)"
      ],
      "execution_count": null,
      "outputs": []
    },
    {
      "cell_type": "code",
      "metadata": {
        "id": "KPaO498pWI_o"
      },
      "source": [
        "confusion_matrix(y_test, y_pred.round())"
      ],
      "execution_count": null,
      "outputs": []
    },
    {
      "cell_type": "markdown",
      "metadata": {
        "id": "Pal8tfejcsno"
      },
      "source": [
        "**Plot the ROC (Receiver Operating Characteristic) Curve** (more info on ROC could be found [here](https://en.wikipedia.org/wiki/Receiver_operating_characteristic)"
      ]
    },
    {
      "cell_type": "code",
      "metadata": {
        "id": "qQlwEMrocVme"
      },
      "source": [
        "pip install plot-metric"
      ],
      "execution_count": null,
      "outputs": []
    },
    {
      "cell_type": "code",
      "metadata": {
        "id": "Twqf5QaocaAQ"
      },
      "source": [
        "from plot_metric.functions import BinaryClassification\n",
        "# Visualisation with plot_metric\n",
        "bc = BinaryClassification(y_pred.round(), y_test, labels=[\"Class 1\", \"Class 2\"])\n",
        "\n",
        "# Figures\n",
        "plt.figure(figsize=(5,5))\n",
        "bc.plot_roc_curve()\n",
        "plt.show()"
      ],
      "execution_count": null,
      "outputs": []
    },
    {
      "cell_type": "markdown",
      "metadata": {
        "id": "Kla2ToH7-XkU"
      },
      "source": [
        "**Deliverables**\n",
        "\n",
        "Please submit the following: \n",
        "\n",
        "*   Your full notebook used for training including the ROC Curves, model weights and loss and accuracy plots wrt number of epochs. \n",
        "\n",
        "\n"
      ]
    },
    {
      "cell_type": "markdown",
      "metadata": {
        "id": "T3MNJbXN30sy"
      },
      "source": [
        "**References**\n",
        "\n",
        "Baldi, P., Sadowski, P. and Whiteson, D. “Searching for Exotic Particles in High-energy Physics with Deep Learning.” Nature Communications 5 (July 2, 2014).\n",
        "\n"
      ]
    },
    {
      "cell_type": "markdown",
      "metadata": {
        "id": "XzqNST9BYuXX"
      },
      "source": [
        "**Contributors**\n",
        "\n",
        "Ali Hariri *(American University of Beirut)*\n",
        "\n",
        "Sergei V. Gleyzer *(University of Alabama)*"
      ]
    }
  ]
}